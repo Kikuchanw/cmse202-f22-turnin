{
 "cells": [
  {
   "cell_type": "markdown",
   "metadata": {},
   "source": [
    "# Final exam (Individual)\n"
   ]
  },
  {
   "cell_type": "markdown",
   "metadata": {},
   "source": [
    "### <p style=\"text-align: right;\"> &#9989; Haizhou Wang</p>\n",
    "### <p style=\"text-align: right;\"> &#9989; Kikuchanw</p>"
   ]
  },
  {
   "cell_type": "markdown",
   "metadata": {},
   "source": [
    "# CMSE 202 Final (Fall 2022)\n",
    "\n",
    "The goal of this final is to give you the opportunity to test out some of the skills that you've developed having now finished CMSE 202. In particular, you'll be committing and pushing repository changes to a GitHub repository, working with data to build a network graph, performing regression analysis, and classifying data using a machine learning classifier. You should find that you have all of the skills necessary to complete this exam having completed the second half of CMSE 202!\n",
    "\n",
    "You are encouraged to look through the entire exam before you get started so that you can appropriately budget your time and understand the broad goals of the exam. Once you've read through it, you'll probably want to make sure you do Part 1 first to ensure that your GitHub repository is working correctly. Let your instructor know right away if you run into issues!\n",
    "\n",
    "The exam is set up so that even if you get stuck on one part there are opportunities to get points on the other parts, so consider jumping ahead if you feel like you aren't making progress and then come back later if you have time.\n",
    "\n",
    "If you have any questions during the exam, you may ask the instructor, the TA, or the LA privately. If you are attending in-person, simply raise your hand and one of us will come over to you. If you are attending via-Zoom, please use the ask-for-help feature or privately message the instructor, the TA, or the LA. We will make any announcements or exam clarifications/corrections to the class via the following Google Document.\n",
    "\n",
    "[LINK](https://docs.google.com/document/d/16x_nbg8coBwf9hyLXRxOXAvrugkRhjeaBQJMiUwdBw8/edit?usp=sharing)\n",
    "\n",
    "**Important note about using online resources**: This exam is \"open internet\". That means that you can look up documentation, google how to accomplish certain Python tasks, etc. Being able to effectively use the internet for computational modeling and data science is a very important skill, so we want to make sure you have the opportunity to exercise that skill. **However**: The use of any person-to-person communication software is absolutely not acceptable. If you are seen accessing your email, using a chat program (e.g. Slack), or any sort of collaborative cloud storage or document software (e.g. Google Documents other than the one we will make announcements on), you will be at risk for receiving a zero on the exam.\n",
    "\n",
    "**Keep your eyes on your screen!** This exam is designed to give *you* the opportunity to show the instructor what you can do and you should hold yourself accountable for maintaining a high level of academic integrity. If any of the instructors observe suspicious behavior, you will, again, risk receiving a zero."
   ]
  },
  {
   "cell_type": "markdown",
   "metadata": {},
   "source": [
    "------\n",
    "<a id=\"toc\"></a>\n",
    "\n",
    "## Table of contents\n",
    "\n",
    "\n",
    "0. [Part 0: Upgrade packages](#part0) (1 point)\n",
    "\n",
    "1. [Part 1: Git](#part1) (9 points)\n",
    "\n",
    "2. [Part 2: Data Preprocessing](#part2) (20 points)\n",
    "\n",
    "3. [Part 3: Regression](#part3) (15 points)\n",
    "\n",
    "4. [Part 4: Principal Component Analysis](#part4) (12 points)\n",
    "\n",
    "5. [Part 5: Support Vector Machines](#part5) (15 points)\n",
    "\n",
    "6. [Part 6: Regression Redux](#part6) (7 points)\n",
    "\n",
    "7. [Part 7: Conceptual Questions](#part7) (14 points)\n",
    "\n",
    "8. [Part 8: Conclusion](#conclusion) (3 points)"
   ]
  },
  {
   "cell_type": "code",
   "execution_count": 1,
   "metadata": {
    "ExecuteTime": {
     "end_time": "2022-12-07T03:50:14.352819Z",
     "start_time": "2022-12-07T03:50:14.350105Z"
    }
   },
   "outputs": [
    {
     "name": "stdout",
     "output_type": "stream",
     "text": [
      "The total grade for this final is 96\n"
     ]
    }
   ],
   "source": [
    "grades = [1, 9, 20, 15, 12, 15, 7, 14, 3]\n",
    "\n",
    "print(f\"The total grade for this final is {sum(grades)}\" )"
   ]
  },
  {
   "cell_type": "markdown",
   "metadata": {},
   "source": [
    "---\n",
    "<a id=\"part0\"></a>\n",
    "[Back to ToC](#toc)\n",
    "\n",
    "# Part 0: Upgrade Packages\n",
    "\n",
    "**&#9989; Question 0.1 (1 point)**: Run the cell below. Do you have the correct packages ? If not upgrade them. **You must do this in order to avoid issues in the rest of the notebook.**\n"
   ]
  },
  {
   "cell_type": "code",
   "execution_count": 2,
   "metadata": {
    "ExecuteTime": {
     "end_time": "2022-12-07T03:15:16.292936Z",
     "start_time": "2022-12-07T03:15:16.283043Z"
    }
   },
   "outputs": [
    {
     "name": "stdout",
     "output_type": "stream",
     "text": [
      "Using matplotlib backend: agg\n",
      "Populating the interactive namespace from numpy and matplotlib\n",
      "Sklearn version should be 1.1.3 and I have 1.1.3\n"
     ]
    }
   ],
   "source": [
    "\n",
    "# Standard libraries\n",
    "%pylab\n",
    "%matplotlib inline\n",
    "\n",
    "import seaborn as sns\n",
    "import pandas as pd\n",
    "\n",
    "# Data cleaning Libraries\n",
    "from sklearn.decomposition import PCA\n",
    "from sklearn.model_selection import GridSearchCV, train_test_split\n",
    "from sklearn.preprocessing import PowerTransformer\n",
    "from sklearn.utils import resample\n",
    "# Classifier Libraries\n",
    "from sklearn.linear_model import Perceptron\n",
    "from sklearn.metrics import classification_report\n",
    "from sklearn.metrics import confusion_matrix, accuracy_score, ConfusionMatrixDisplay\n",
    "from sklearn.svm import SVC, LinearSVC\n",
    "\n",
    "import statsmodels.api as sm \n",
    "\n",
    "from sklearn import __version__ as sk_version\n",
    "sns.set_context(\"talk\")\n",
    "\n",
    "print(f\"Sklearn version should be 1.1.3 and I have {sk_version}\")\n"
   ]
  },
  {
   "cell_type": "markdown",
   "metadata": {},
   "source": [
    "---\n",
    "<a id=\"part1\"></a>\n",
    "[Back to ToC](#toc)\n",
    "\n",
    "## Part 1: Git (9 points)\n",
    "\n",
    "For this assignment, you're going to add it to the `cmse202-f22-turnin` repository you created in class so that you can track your progress on the assignment and preserve the final version that you turn in. In order to do this you need to\n",
    "\n",
    "**&#9989; Question 1.1 (1 point)**: Navigate to your `cmse202-f22-turnin` **local** repository and create a new directory called `final` and copy this notebook in that new directory.\n",
    "\n",
    "``` bash\n",
    "# mkdir 'final'\n",
    "\n",
    "```\n"
   ]
  },
  {
   "cell_type": "markdown",
   "metadata": {},
   "source": [
    "&#9989; **Question 1.2 (3 points)** Check the status of your local `git`.\n",
    "\n",
    "``` bash \n",
    "# git status\n",
    "\n",
    "```\n",
    "Copy and paste below the output of the command.\n",
    "\n",
    "``` bash\n",
    "# On branch main\n",
    "Your branch is up to date with 'origin/main'.\n",
    "\n",
    "Changes not staged for commit:\n",
    "  (use \"git add <file>...\" to update what will be committed)\n",
    "  (use \"git restore <file>...\" to discard changes in working directory)\n",
    "  (commit or discard the untracked or modified content in submodules)\n",
    "        modified:   ../hw-01 (modified content)\n",
    "\n",
    "Untracked files:\n",
    "  (use \"git add <file>...\" to include in what will be committed)\n",
    "        ./\n",
    "        ../hw-04/.ipynb_checkpoints/\n",
    "        ../hw-04/ads.csv\n",
    "        ../hw-04/housing.csv\n",
    "        ../hw03,/.ipynb_checkpoints/\n",
    "        ../hw03,/asoiaf-book1-edges.csv\n",
    "        ../hw03,/store_placement.py\n",
    "\n",
    "no changes added to commit (use \"git add\" and/or \"git commit -a\")\n",
    "```\n",
    "\n",
    "What is the name of the branch you are in ? \n",
    "\n",
    "``` bash\n",
    "# main\n",
    "```\n",
    "\n",
    "**Important:** You should be in the `main` branch. If you are not switch to the `main` branch"
   ]
  },
  {
   "cell_type": "markdown",
   "metadata": {},
   "source": [
    "&#9989; **Question 1.3 (3 points):**\n",
    "Add your name and GitHub username to the top of the notebook, then add and commit **ONLY** the notebook.\n",
    "\n",
    "``` bash\n",
    "# git add CMSE202_Final-STUDENT.ipynb\n",
    "  git commit -m 'q1.3'\n",
    "```\n",
    "\n",
    "What is the commit message you used ?\n",
    "\n",
    "``` bash\n",
    "# 'q1.3'\n",
    "```"
   ]
  },
  {
   "cell_type": "markdown",
   "metadata": {},
   "source": [
    "&#9989; **Question 1.4 (1 point):** Before moving on. Check that the notebook you are working on is the correct one. Run the following cell. **Are you in the new folder you just created?** If not close this notebook and open the one in the `final` folder\n"
   ]
  },
  {
   "cell_type": "code",
   "execution_count": 3,
   "metadata": {
    "ExecuteTime": {
     "end_time": "2022-12-05T20:23:32.165597Z",
     "start_time": "2022-12-05T20:23:31.986031Z"
    }
   },
   "outputs": [
    {
     "name": "stdout",
     "output_type": "stream",
     "text": [
      "/home/wanghaiz/CMSE202/repositories/cmse202-f22-turnin/final\r\n"
     ]
    }
   ],
   "source": [
    "!pwd"
   ]
  },
  {
   "cell_type": "markdown",
   "metadata": {},
   "source": [
    "&#9989; **Question 1.5 (1 point):** Finally push the updated notebook to GitHub.\n",
    "\n",
    "``` bash\n",
    "# git push\n",
    "```\n"
   ]
  },
  {
   "cell_type": "markdown",
   "metadata": {},
   "source": [
    "**Important**: Double check you've added your Professor and your TA as collaborators to your \"turnin\" repository (you should have done this in the previous homework assignment).\n",
    "\n",
    "**Also important**: Make sure that the version of this notebook that you are working on is the same one that you just added to your repository! If you are working on a different copy of the notebook, **none of your changes will be tracked**!\n",
    "\n",
    "If everything went as intended, the file should now show up on your GitHub account in the \"`cmse202-f22-turnin`\" repository inside the `final` directory that you just created.\n"
   ]
  },
  {
   "cell_type": "markdown",
   "metadata": {
    "pycharm": {
     "name": "#%% md\n"
    }
   },
   "source": [
    "---\n",
    "<a id=\"part2\"></a>\n",
    "[Back to ToC](#toc)\n",
    "\n",
    "# Part 2. Data preprocessing (19 points)\n",
    "\n",
    "For this assignment we’re going to be working with a dataset that contains measurements of the characteristics of multiple wines. This includes things like the acidity and density. You’ll be asked to use this information, along with the machine learning tools that we’ve used in class, to determine whether the wine type is Red or White.\n",
    "\n",
    "The dataset is located at:\n",
    "`https://raw.githubusercontent.com/msu-cmse-courses/cmse202-F22-data/main/data/winequality.csv`\n",
    "\n",
    "\n",
    "**&#9989; Question 2.1 (4 points):** Do this\n",
    "\n",
    "1. Download the data and type the command you used to download the data\n",
    "\n",
    "2. Read the `winequality.csv` file into a dataframe\n",
    "\n",
    "3. Print out the **unique** labels in the `type` column. \n",
    "\n",
    "4. Display the first 10 rows of the dataset.\n",
    "\n",
    "**Note**: each row represents one data point and each column (except the `type` column) represents one feature. The `type` column corresponds to the class labels for every data point. There are two types of unique class labels in the `type` column. "
   ]
  },
  {
   "cell_type": "code",
   "execution_count": 6,
   "metadata": {
    "ExecuteTime": {
     "end_time": "2022-12-05T20:23:35.697903Z",
     "start_time": "2022-12-05T20:23:35.694510Z"
    }
   },
   "outputs": [],
   "source": [
    "# Put the command you used to download the data here\n",
    "#curl -o 'winequality.csv' https://raw.githubusercontent.com/msu-cmse-courses/cmse202-F22-data/main/data/winequality.csv"
   ]
  },
  {
   "cell_type": "code",
   "execution_count": 7,
   "metadata": {
    "ExecuteTime": {
     "end_time": "2022-12-05T20:23:36.383889Z",
     "start_time": "2022-12-05T20:23:36.381940Z"
    },
    "pycharm": {
     "name": "#%%\n"
    }
   },
   "outputs": [
    {
     "name": "stdout",
     "output_type": "stream",
     "text": [
      "['red' 'white']\n"
     ]
    },
    {
     "data": {
      "text/html": [
       "<div>\n",
       "<style scoped>\n",
       "    .dataframe tbody tr th:only-of-type {\n",
       "        vertical-align: middle;\n",
       "    }\n",
       "\n",
       "    .dataframe tbody tr th {\n",
       "        vertical-align: top;\n",
       "    }\n",
       "\n",
       "    .dataframe thead th {\n",
       "        text-align: right;\n",
       "    }\n",
       "</style>\n",
       "<table border=\"1\" class=\"dataframe\">\n",
       "  <thead>\n",
       "    <tr style=\"text-align: right;\">\n",
       "      <th></th>\n",
       "      <th>type</th>\n",
       "      <th>fixed acidity</th>\n",
       "      <th>volatile acidity</th>\n",
       "      <th>citric acid</th>\n",
       "      <th>residual sugar</th>\n",
       "      <th>chlorides</th>\n",
       "      <th>free sulfur dioxide</th>\n",
       "      <th>total sulfur dioxide</th>\n",
       "      <th>density</th>\n",
       "      <th>pH</th>\n",
       "      <th>sulphates</th>\n",
       "      <th>alcohol</th>\n",
       "      <th>quality</th>\n",
       "    </tr>\n",
       "  </thead>\n",
       "  <tbody>\n",
       "    <tr>\n",
       "      <th>0</th>\n",
       "      <td>white</td>\n",
       "      <td>7.0</td>\n",
       "      <td>0.27</td>\n",
       "      <td>0.36</td>\n",
       "      <td>20.7</td>\n",
       "      <td>0.045</td>\n",
       "      <td>45.0</td>\n",
       "      <td>170.0</td>\n",
       "      <td>1.0010</td>\n",
       "      <td>3.00</td>\n",
       "      <td>0.45</td>\n",
       "      <td>8.8</td>\n",
       "      <td>6</td>\n",
       "    </tr>\n",
       "    <tr>\n",
       "      <th>1</th>\n",
       "      <td>white</td>\n",
       "      <td>6.3</td>\n",
       "      <td>0.30</td>\n",
       "      <td>0.34</td>\n",
       "      <td>1.6</td>\n",
       "      <td>0.049</td>\n",
       "      <td>14.0</td>\n",
       "      <td>132.0</td>\n",
       "      <td>0.9940</td>\n",
       "      <td>3.30</td>\n",
       "      <td>0.49</td>\n",
       "      <td>9.5</td>\n",
       "      <td>6</td>\n",
       "    </tr>\n",
       "    <tr>\n",
       "      <th>2</th>\n",
       "      <td>white</td>\n",
       "      <td>8.1</td>\n",
       "      <td>0.28</td>\n",
       "      <td>0.40</td>\n",
       "      <td>6.9</td>\n",
       "      <td>0.050</td>\n",
       "      <td>30.0</td>\n",
       "      <td>97.0</td>\n",
       "      <td>0.9951</td>\n",
       "      <td>3.26</td>\n",
       "      <td>0.44</td>\n",
       "      <td>10.1</td>\n",
       "      <td>6</td>\n",
       "    </tr>\n",
       "    <tr>\n",
       "      <th>3</th>\n",
       "      <td>white</td>\n",
       "      <td>7.2</td>\n",
       "      <td>0.23</td>\n",
       "      <td>0.32</td>\n",
       "      <td>8.5</td>\n",
       "      <td>0.058</td>\n",
       "      <td>47.0</td>\n",
       "      <td>186.0</td>\n",
       "      <td>0.9956</td>\n",
       "      <td>3.19</td>\n",
       "      <td>0.40</td>\n",
       "      <td>9.9</td>\n",
       "      <td>6</td>\n",
       "    </tr>\n",
       "    <tr>\n",
       "      <th>4</th>\n",
       "      <td>white</td>\n",
       "      <td>7.2</td>\n",
       "      <td>0.23</td>\n",
       "      <td>0.32</td>\n",
       "      <td>8.5</td>\n",
       "      <td>0.058</td>\n",
       "      <td>47.0</td>\n",
       "      <td>186.0</td>\n",
       "      <td>0.9956</td>\n",
       "      <td>3.19</td>\n",
       "      <td>0.40</td>\n",
       "      <td>9.9</td>\n",
       "      <td>6</td>\n",
       "    </tr>\n",
       "    <tr>\n",
       "      <th>5</th>\n",
       "      <td>white</td>\n",
       "      <td>8.1</td>\n",
       "      <td>0.28</td>\n",
       "      <td>0.40</td>\n",
       "      <td>6.9</td>\n",
       "      <td>0.050</td>\n",
       "      <td>30.0</td>\n",
       "      <td>97.0</td>\n",
       "      <td>0.9951</td>\n",
       "      <td>3.26</td>\n",
       "      <td>0.44</td>\n",
       "      <td>10.1</td>\n",
       "      <td>6</td>\n",
       "    </tr>\n",
       "    <tr>\n",
       "      <th>6</th>\n",
       "      <td>white</td>\n",
       "      <td>6.2</td>\n",
       "      <td>0.32</td>\n",
       "      <td>0.16</td>\n",
       "      <td>7.0</td>\n",
       "      <td>0.045</td>\n",
       "      <td>30.0</td>\n",
       "      <td>136.0</td>\n",
       "      <td>0.9949</td>\n",
       "      <td>3.18</td>\n",
       "      <td>0.47</td>\n",
       "      <td>9.6</td>\n",
       "      <td>6</td>\n",
       "    </tr>\n",
       "    <tr>\n",
       "      <th>7</th>\n",
       "      <td>white</td>\n",
       "      <td>7.0</td>\n",
       "      <td>0.27</td>\n",
       "      <td>0.36</td>\n",
       "      <td>20.7</td>\n",
       "      <td>0.045</td>\n",
       "      <td>45.0</td>\n",
       "      <td>170.0</td>\n",
       "      <td>1.0010</td>\n",
       "      <td>3.00</td>\n",
       "      <td>0.45</td>\n",
       "      <td>8.8</td>\n",
       "      <td>6</td>\n",
       "    </tr>\n",
       "    <tr>\n",
       "      <th>8</th>\n",
       "      <td>white</td>\n",
       "      <td>6.3</td>\n",
       "      <td>0.30</td>\n",
       "      <td>0.34</td>\n",
       "      <td>1.6</td>\n",
       "      <td>0.049</td>\n",
       "      <td>14.0</td>\n",
       "      <td>132.0</td>\n",
       "      <td>0.9940</td>\n",
       "      <td>3.30</td>\n",
       "      <td>0.49</td>\n",
       "      <td>9.5</td>\n",
       "      <td>6</td>\n",
       "    </tr>\n",
       "    <tr>\n",
       "      <th>9</th>\n",
       "      <td>white</td>\n",
       "      <td>8.1</td>\n",
       "      <td>0.22</td>\n",
       "      <td>0.43</td>\n",
       "      <td>1.5</td>\n",
       "      <td>0.044</td>\n",
       "      <td>28.0</td>\n",
       "      <td>129.0</td>\n",
       "      <td>0.9938</td>\n",
       "      <td>3.22</td>\n",
       "      <td>0.45</td>\n",
       "      <td>11.0</td>\n",
       "      <td>6</td>\n",
       "    </tr>\n",
       "  </tbody>\n",
       "</table>\n",
       "</div>"
      ],
      "text/plain": [
       "    type  fixed acidity  volatile acidity  citric acid  residual sugar  \\\n",
       "0  white            7.0              0.27         0.36            20.7   \n",
       "1  white            6.3              0.30         0.34             1.6   \n",
       "2  white            8.1              0.28         0.40             6.9   \n",
       "3  white            7.2              0.23         0.32             8.5   \n",
       "4  white            7.2              0.23         0.32             8.5   \n",
       "5  white            8.1              0.28         0.40             6.9   \n",
       "6  white            6.2              0.32         0.16             7.0   \n",
       "7  white            7.0              0.27         0.36            20.7   \n",
       "8  white            6.3              0.30         0.34             1.6   \n",
       "9  white            8.1              0.22         0.43             1.5   \n",
       "\n",
       "   chlorides  free sulfur dioxide  total sulfur dioxide  density    pH  \\\n",
       "0      0.045                 45.0                 170.0   1.0010  3.00   \n",
       "1      0.049                 14.0                 132.0   0.9940  3.30   \n",
       "2      0.050                 30.0                  97.0   0.9951  3.26   \n",
       "3      0.058                 47.0                 186.0   0.9956  3.19   \n",
       "4      0.058                 47.0                 186.0   0.9956  3.19   \n",
       "5      0.050                 30.0                  97.0   0.9951  3.26   \n",
       "6      0.045                 30.0                 136.0   0.9949  3.18   \n",
       "7      0.045                 45.0                 170.0   1.0010  3.00   \n",
       "8      0.049                 14.0                 132.0   0.9940  3.30   \n",
       "9      0.044                 28.0                 129.0   0.9938  3.22   \n",
       "\n",
       "   sulphates  alcohol  quality  \n",
       "0       0.45      8.8        6  \n",
       "1       0.49      9.5        6  \n",
       "2       0.44     10.1        6  \n",
       "3       0.40      9.9        6  \n",
       "4       0.40      9.9        6  \n",
       "5       0.44     10.1        6  \n",
       "6       0.47      9.6        6  \n",
       "7       0.45      8.8        6  \n",
       "8       0.49      9.5        6  \n",
       "9       0.45     11.0        6  "
      ]
     },
     "execution_count": 7,
     "metadata": {},
     "output_type": "execute_result"
    }
   ],
   "source": [
    "# Put your code here\n",
    "df = pd.read_csv(\"winequality.csv\")\n",
    "uni = unique(df.type)\n",
    "print(uni)\n",
    "df.head(10)"
   ]
  },
  {
   "cell_type": "markdown",
   "metadata": {
    "pycharm": {
     "name": "#%% md\n"
    }
   },
   "source": [
    "**&#9989; Question 2.2 (7 points):** Do the following:\n",
    "\n",
    "1. Drop the `NaN` in the dataset\n",
    "\n",
    "2. Drop the `quality` column\n",
    "\n",
    "2. Replace all of the strings in your `type` column with integers based on the following:\n",
    "\n",
    "    | original type | integer type |\n",
    "    | -------- | -------- |\n",
    "    | white | 0 |\n",
    "    | red | 1 |\n",
    "\n",
    "3. Once you've replaced the labels, display your DataFrame and confirm that it looks correct."
   ]
  },
  {
   "cell_type": "code",
   "execution_count": 9,
   "metadata": {
    "ExecuteTime": {
     "end_time": "2022-12-07T03:22:13.098444Z",
     "start_time": "2022-12-07T03:22:13.095245Z"
    },
    "pycharm": {
     "name": "#%%\n"
    }
   },
   "outputs": [
    {
     "data": {
      "text/html": [
       "<div>\n",
       "<style scoped>\n",
       "    .dataframe tbody tr th:only-of-type {\n",
       "        vertical-align: middle;\n",
       "    }\n",
       "\n",
       "    .dataframe tbody tr th {\n",
       "        vertical-align: top;\n",
       "    }\n",
       "\n",
       "    .dataframe thead th {\n",
       "        text-align: right;\n",
       "    }\n",
       "</style>\n",
       "<table border=\"1\" class=\"dataframe\">\n",
       "  <thead>\n",
       "    <tr style=\"text-align: right;\">\n",
       "      <th></th>\n",
       "      <th>type</th>\n",
       "      <th>fixed acidity</th>\n",
       "      <th>volatile acidity</th>\n",
       "      <th>citric acid</th>\n",
       "      <th>residual sugar</th>\n",
       "      <th>chlorides</th>\n",
       "      <th>free sulfur dioxide</th>\n",
       "      <th>total sulfur dioxide</th>\n",
       "      <th>density</th>\n",
       "      <th>pH</th>\n",
       "      <th>sulphates</th>\n",
       "      <th>alcohol</th>\n",
       "    </tr>\n",
       "  </thead>\n",
       "  <tbody>\n",
       "    <tr>\n",
       "      <th>0</th>\n",
       "      <td>0</td>\n",
       "      <td>7.0</td>\n",
       "      <td>0.270</td>\n",
       "      <td>0.36</td>\n",
       "      <td>20.7</td>\n",
       "      <td>0.045</td>\n",
       "      <td>45.0</td>\n",
       "      <td>170.0</td>\n",
       "      <td>1.00100</td>\n",
       "      <td>3.00</td>\n",
       "      <td>0.45</td>\n",
       "      <td>8.8</td>\n",
       "    </tr>\n",
       "    <tr>\n",
       "      <th>1</th>\n",
       "      <td>0</td>\n",
       "      <td>6.3</td>\n",
       "      <td>0.300</td>\n",
       "      <td>0.34</td>\n",
       "      <td>1.6</td>\n",
       "      <td>0.049</td>\n",
       "      <td>14.0</td>\n",
       "      <td>132.0</td>\n",
       "      <td>0.99400</td>\n",
       "      <td>3.30</td>\n",
       "      <td>0.49</td>\n",
       "      <td>9.5</td>\n",
       "    </tr>\n",
       "    <tr>\n",
       "      <th>2</th>\n",
       "      <td>0</td>\n",
       "      <td>8.1</td>\n",
       "      <td>0.280</td>\n",
       "      <td>0.40</td>\n",
       "      <td>6.9</td>\n",
       "      <td>0.050</td>\n",
       "      <td>30.0</td>\n",
       "      <td>97.0</td>\n",
       "      <td>0.99510</td>\n",
       "      <td>3.26</td>\n",
       "      <td>0.44</td>\n",
       "      <td>10.1</td>\n",
       "    </tr>\n",
       "    <tr>\n",
       "      <th>3</th>\n",
       "      <td>0</td>\n",
       "      <td>7.2</td>\n",
       "      <td>0.230</td>\n",
       "      <td>0.32</td>\n",
       "      <td>8.5</td>\n",
       "      <td>0.058</td>\n",
       "      <td>47.0</td>\n",
       "      <td>186.0</td>\n",
       "      <td>0.99560</td>\n",
       "      <td>3.19</td>\n",
       "      <td>0.40</td>\n",
       "      <td>9.9</td>\n",
       "    </tr>\n",
       "    <tr>\n",
       "      <th>4</th>\n",
       "      <td>0</td>\n",
       "      <td>7.2</td>\n",
       "      <td>0.230</td>\n",
       "      <td>0.32</td>\n",
       "      <td>8.5</td>\n",
       "      <td>0.058</td>\n",
       "      <td>47.0</td>\n",
       "      <td>186.0</td>\n",
       "      <td>0.99560</td>\n",
       "      <td>3.19</td>\n",
       "      <td>0.40</td>\n",
       "      <td>9.9</td>\n",
       "    </tr>\n",
       "    <tr>\n",
       "      <th>...</th>\n",
       "      <td>...</td>\n",
       "      <td>...</td>\n",
       "      <td>...</td>\n",
       "      <td>...</td>\n",
       "      <td>...</td>\n",
       "      <td>...</td>\n",
       "      <td>...</td>\n",
       "      <td>...</td>\n",
       "      <td>...</td>\n",
       "      <td>...</td>\n",
       "      <td>...</td>\n",
       "      <td>...</td>\n",
       "    </tr>\n",
       "    <tr>\n",
       "      <th>6491</th>\n",
       "      <td>1</td>\n",
       "      <td>6.8</td>\n",
       "      <td>0.620</td>\n",
       "      <td>0.08</td>\n",
       "      <td>1.9</td>\n",
       "      <td>0.068</td>\n",
       "      <td>28.0</td>\n",
       "      <td>38.0</td>\n",
       "      <td>0.99651</td>\n",
       "      <td>3.42</td>\n",
       "      <td>0.82</td>\n",
       "      <td>9.5</td>\n",
       "    </tr>\n",
       "    <tr>\n",
       "      <th>6492</th>\n",
       "      <td>1</td>\n",
       "      <td>6.2</td>\n",
       "      <td>0.600</td>\n",
       "      <td>0.08</td>\n",
       "      <td>2.0</td>\n",
       "      <td>0.090</td>\n",
       "      <td>32.0</td>\n",
       "      <td>44.0</td>\n",
       "      <td>0.99490</td>\n",
       "      <td>3.45</td>\n",
       "      <td>0.58</td>\n",
       "      <td>10.5</td>\n",
       "    </tr>\n",
       "    <tr>\n",
       "      <th>6494</th>\n",
       "      <td>1</td>\n",
       "      <td>6.3</td>\n",
       "      <td>0.510</td>\n",
       "      <td>0.13</td>\n",
       "      <td>2.3</td>\n",
       "      <td>0.076</td>\n",
       "      <td>29.0</td>\n",
       "      <td>40.0</td>\n",
       "      <td>0.99574</td>\n",
       "      <td>3.42</td>\n",
       "      <td>0.75</td>\n",
       "      <td>11.0</td>\n",
       "    </tr>\n",
       "    <tr>\n",
       "      <th>6495</th>\n",
       "      <td>1</td>\n",
       "      <td>5.9</td>\n",
       "      <td>0.645</td>\n",
       "      <td>0.12</td>\n",
       "      <td>2.0</td>\n",
       "      <td>0.075</td>\n",
       "      <td>32.0</td>\n",
       "      <td>44.0</td>\n",
       "      <td>0.99547</td>\n",
       "      <td>3.57</td>\n",
       "      <td>0.71</td>\n",
       "      <td>10.2</td>\n",
       "    </tr>\n",
       "    <tr>\n",
       "      <th>6496</th>\n",
       "      <td>1</td>\n",
       "      <td>6.0</td>\n",
       "      <td>0.310</td>\n",
       "      <td>0.47</td>\n",
       "      <td>3.6</td>\n",
       "      <td>0.067</td>\n",
       "      <td>18.0</td>\n",
       "      <td>42.0</td>\n",
       "      <td>0.99549</td>\n",
       "      <td>3.39</td>\n",
       "      <td>0.66</td>\n",
       "      <td>11.0</td>\n",
       "    </tr>\n",
       "  </tbody>\n",
       "</table>\n",
       "<p>6463 rows × 12 columns</p>\n",
       "</div>"
      ],
      "text/plain": [
       "      type  fixed acidity  volatile acidity  citric acid  residual sugar  \\\n",
       "0        0            7.0             0.270         0.36            20.7   \n",
       "1        0            6.3             0.300         0.34             1.6   \n",
       "2        0            8.1             0.280         0.40             6.9   \n",
       "3        0            7.2             0.230         0.32             8.5   \n",
       "4        0            7.2             0.230         0.32             8.5   \n",
       "...    ...            ...               ...          ...             ...   \n",
       "6491     1            6.8             0.620         0.08             1.9   \n",
       "6492     1            6.2             0.600         0.08             2.0   \n",
       "6494     1            6.3             0.510         0.13             2.3   \n",
       "6495     1            5.9             0.645         0.12             2.0   \n",
       "6496     1            6.0             0.310         0.47             3.6   \n",
       "\n",
       "      chlorides  free sulfur dioxide  total sulfur dioxide  density    pH  \\\n",
       "0         0.045                 45.0                 170.0  1.00100  3.00   \n",
       "1         0.049                 14.0                 132.0  0.99400  3.30   \n",
       "2         0.050                 30.0                  97.0  0.99510  3.26   \n",
       "3         0.058                 47.0                 186.0  0.99560  3.19   \n",
       "4         0.058                 47.0                 186.0  0.99560  3.19   \n",
       "...         ...                  ...                   ...      ...   ...   \n",
       "6491      0.068                 28.0                  38.0  0.99651  3.42   \n",
       "6492      0.090                 32.0                  44.0  0.99490  3.45   \n",
       "6494      0.076                 29.0                  40.0  0.99574  3.42   \n",
       "6495      0.075                 32.0                  44.0  0.99547  3.57   \n",
       "6496      0.067                 18.0                  42.0  0.99549  3.39   \n",
       "\n",
       "      sulphates  alcohol  \n",
       "0          0.45      8.8  \n",
       "1          0.49      9.5  \n",
       "2          0.44     10.1  \n",
       "3          0.40      9.9  \n",
       "4          0.40      9.9  \n",
       "...         ...      ...  \n",
       "6491       0.82      9.5  \n",
       "6492       0.58     10.5  \n",
       "6494       0.75     11.0  \n",
       "6495       0.71     10.2  \n",
       "6496       0.66     11.0  \n",
       "\n",
       "[6463 rows x 12 columns]"
      ]
     },
     "execution_count": 9,
     "metadata": {},
     "output_type": "execute_result"
    }
   ],
   "source": [
    "# Put your code here\n",
    "df = df.dropna()\n",
    "df1 = df.drop(['quality'], axis=1)\n",
    "df1.type = df1.type.map({'white':0, 'red':1})\n",
    "df1"
   ]
  },
  {
   "cell_type": "markdown",
   "metadata": {
    "pycharm": {
     "name": "#%% md\n"
    }
   },
   "source": [
    "**&#9989; Question 2.3 (2 points):** As we've seen, when working with `scikit-learn` it can be much easier to work with the data if we have separate variables: one that stores the feature matrix and one that stores the class labels.\n",
    "\n",
    "**Do This:** Split your DataFrame so that you have two separate DataFrames: (1) one called `features`, which contains all columns of features; and (2) one called `labels`, which is a single-column dataframe that contains all of the *new* integer labels you just created. "
   ]
  },
  {
   "cell_type": "code",
   "execution_count": 16,
   "metadata": {
    "ExecuteTime": {
     "end_time": "2022-12-07T03:22:14.395392Z",
     "start_time": "2022-12-07T03:22:14.392835Z"
    },
    "pycharm": {
     "name": "#%%\n"
    }
   },
   "outputs": [],
   "source": [
    "# Put your code here\n",
    "features = df1.iloc[:,1:]\n",
    "labels = df1.iloc[:,0]\n"
   ]
  },
  {
   "cell_type": "markdown",
   "metadata": {},
   "source": [
    "**&#9989; Question 2.4 (1 points):** Do this:\n",
    "\n",
    "We need to scale the data. This isn't something we've talked very much about in-class, so we don't expect you to know exactly what is happening here. But it will be important for our PCA later on in the assignment. We decided to put it here so you were aware of it's existence. \n",
    "\n",
    "**Run the following bit of code below.**"
   ]
  },
  {
   "cell_type": "code",
   "execution_count": 17,
   "metadata": {
    "ExecuteTime": {
     "end_time": "2022-12-07T03:22:15.765193Z",
     "start_time": "2022-12-07T03:22:15.598135Z"
    }
   },
   "outputs": [
    {
     "data": {
      "text/html": [
       "<div>\n",
       "<style scoped>\n",
       "    .dataframe tbody tr th:only-of-type {\n",
       "        vertical-align: middle;\n",
       "    }\n",
       "\n",
       "    .dataframe tbody tr th {\n",
       "        vertical-align: top;\n",
       "    }\n",
       "\n",
       "    .dataframe thead th {\n",
       "        text-align: right;\n",
       "    }\n",
       "</style>\n",
       "<table border=\"1\" class=\"dataframe\">\n",
       "  <thead>\n",
       "    <tr style=\"text-align: right;\">\n",
       "      <th></th>\n",
       "      <th>fixed acidity</th>\n",
       "      <th>volatile acidity</th>\n",
       "      <th>citric acid</th>\n",
       "      <th>residual sugar</th>\n",
       "      <th>chlorides</th>\n",
       "      <th>free sulfur dioxide</th>\n",
       "      <th>total sulfur dioxide</th>\n",
       "      <th>density</th>\n",
       "      <th>pH</th>\n",
       "      <th>sulphates</th>\n",
       "      <th>alcohol</th>\n",
       "    </tr>\n",
       "  </thead>\n",
       "  <tbody>\n",
       "    <tr>\n",
       "      <th>0</th>\n",
       "      <td>0.002067</td>\n",
       "      <td>-0.274594</td>\n",
       "      <td>0.326283</td>\n",
       "      <td>1.783387</td>\n",
       "      <td>-0.235637</td>\n",
       "      <td>0.878436</td>\n",
       "      <td>0.953118</td>\n",
       "      <td>3.618633e-15</td>\n",
       "      <td>-1.435762</td>\n",
       "      <td>-0.492388</td>\n",
       "      <td>-1.714952</td>\n",
       "    </tr>\n",
       "    <tr>\n",
       "      <th>1</th>\n",
       "      <td>-0.736529</td>\n",
       "      <td>-0.011794</td>\n",
       "      <td>0.190629</td>\n",
       "      <td>-1.017185</td>\n",
       "      <td>-0.004464</td>\n",
       "      <td>-0.938438</td>\n",
       "      <td>0.318282</td>\n",
       "      <td>-3.677614e-16</td>\n",
       "      <td>0.559742</td>\n",
       "      <td>-0.135902</td>\n",
       "      <td>-0.828375</td>\n",
       "    </tr>\n",
       "    <tr>\n",
       "      <th>2</th>\n",
       "      <td>0.870686</td>\n",
       "      <td>-0.183602</td>\n",
       "      <td>0.592782</td>\n",
       "      <td>0.759441</td>\n",
       "      <td>0.050064</td>\n",
       "      <td>0.135603</td>\n",
       "      <td>-0.289234</td>\n",
       "      <td>2.983724e-16</td>\n",
       "      <td>0.320015</td>\n",
       "      <td>-0.587942</td>\n",
       "      <td>-0.200552</td>\n",
       "    </tr>\n",
       "    <tr>\n",
       "      <th>3</th>\n",
       "      <td>0.183024</td>\n",
       "      <td>-0.676414</td>\n",
       "      <td>0.053315</td>\n",
       "      <td>0.980812</td>\n",
       "      <td>0.443877</td>\n",
       "      <td>0.966426</td>\n",
       "      <td>1.214336</td>\n",
       "      <td>5.932754e-16</td>\n",
       "      <td>-0.117749</td>\n",
       "      <td>-0.998762</td>\n",
       "      <td>-0.398108</td>\n",
       "    </tr>\n",
       "    <tr>\n",
       "      <th>4</th>\n",
       "      <td>0.183024</td>\n",
       "      <td>-0.676414</td>\n",
       "      <td>0.053315</td>\n",
       "      <td>0.980812</td>\n",
       "      <td>0.443877</td>\n",
       "      <td>0.966426</td>\n",
       "      <td>1.214336</td>\n",
       "      <td>5.932754e-16</td>\n",
       "      <td>-0.117749</td>\n",
       "      <td>-0.998762</td>\n",
       "      <td>-0.398108</td>\n",
       "    </tr>\n",
       "    <tr>\n",
       "      <th>...</th>\n",
       "      <td>...</td>\n",
       "      <td>...</td>\n",
       "      <td>...</td>\n",
       "      <td>...</td>\n",
       "      <td>...</td>\n",
       "      <td>...</td>\n",
       "      <td>...</td>\n",
       "      <td>...</td>\n",
       "      <td>...</td>\n",
       "      <td>...</td>\n",
       "      <td>...</td>\n",
       "    </tr>\n",
       "    <tr>\n",
       "      <th>6491</th>\n",
       "      <td>-0.191216</td>\n",
       "      <td>1.570061</td>\n",
       "      <td>-1.743030</td>\n",
       "      <td>-0.802852</td>\n",
       "      <td>0.844767</td>\n",
       "      <td>0.022191</td>\n",
       "      <td>-1.395286</td>\n",
       "      <td>1.127570e-15</td>\n",
       "      <td>1.236780</td>\n",
       "      <td>1.736260</td>\n",
       "      <td>-0.828375</td>\n",
       "    </tr>\n",
       "    <tr>\n",
       "      <th>6492</th>\n",
       "      <td>-0.857687</td>\n",
       "      <td>1.512538</td>\n",
       "      <td>-1.743030</td>\n",
       "      <td>-0.738324</td>\n",
       "      <td>1.463896</td>\n",
       "      <td>0.244951</td>\n",
       "      <td>-1.275526</td>\n",
       "      <td>1.769418e-16</td>\n",
       "      <td>1.396758</td>\n",
       "      <td>0.537446</td>\n",
       "      <td>0.163481</td>\n",
       "    </tr>\n",
       "    <tr>\n",
       "      <th>6494</th>\n",
       "      <td>-0.736529</td>\n",
       "      <td>1.204018</td>\n",
       "      <td>-1.343700</td>\n",
       "      <td>-0.561850</td>\n",
       "      <td>1.105978</td>\n",
       "      <td>0.079431</td>\n",
       "      <td>-1.355100</td>\n",
       "      <td>6.800116e-16</td>\n",
       "      <td>1.236780</td>\n",
       "      <td>1.454528</td>\n",
       "      <td>0.567349</td>\n",
       "    </tr>\n",
       "    <tr>\n",
       "      <th>6495</th>\n",
       "      <td>-1.249221</td>\n",
       "      <td>1.637209</td>\n",
       "      <td>-1.422397</td>\n",
       "      <td>-0.738324</td>\n",
       "      <td>1.075850</td>\n",
       "      <td>0.244951</td>\n",
       "      <td>-1.275526</td>\n",
       "      <td>5.204170e-16</td>\n",
       "      <td>2.002637</td>\n",
       "      <td>1.271668</td>\n",
       "      <td>-0.105800</td>\n",
       "    </tr>\n",
       "    <tr>\n",
       "      <th>6496</th>\n",
       "      <td>-1.113789</td>\n",
       "      <td>0.069326</td>\n",
       "      <td>1.044571</td>\n",
       "      <td>-0.000221</td>\n",
       "      <td>0.808661</td>\n",
       "      <td>-0.625176</td>\n",
       "      <td>-1.315185</td>\n",
       "      <td>5.308254e-16</td>\n",
       "      <td>1.073198</td>\n",
       "      <td>1.016946</td>\n",
       "      <td>0.567349</td>\n",
       "    </tr>\n",
       "  </tbody>\n",
       "</table>\n",
       "<p>6463 rows × 11 columns</p>\n",
       "</div>"
      ],
      "text/plain": [
       "      fixed acidity  volatile acidity  citric acid  residual sugar  chlorides  \\\n",
       "0          0.002067         -0.274594     0.326283        1.783387  -0.235637   \n",
       "1         -0.736529         -0.011794     0.190629       -1.017185  -0.004464   \n",
       "2          0.870686         -0.183602     0.592782        0.759441   0.050064   \n",
       "3          0.183024         -0.676414     0.053315        0.980812   0.443877   \n",
       "4          0.183024         -0.676414     0.053315        0.980812   0.443877   \n",
       "...             ...               ...          ...             ...        ...   \n",
       "6491      -0.191216          1.570061    -1.743030       -0.802852   0.844767   \n",
       "6492      -0.857687          1.512538    -1.743030       -0.738324   1.463896   \n",
       "6494      -0.736529          1.204018    -1.343700       -0.561850   1.105978   \n",
       "6495      -1.249221          1.637209    -1.422397       -0.738324   1.075850   \n",
       "6496      -1.113789          0.069326     1.044571       -0.000221   0.808661   \n",
       "\n",
       "      free sulfur dioxide  total sulfur dioxide       density        pH  \\\n",
       "0                0.878436              0.953118  3.618633e-15 -1.435762   \n",
       "1               -0.938438              0.318282 -3.677614e-16  0.559742   \n",
       "2                0.135603             -0.289234  2.983724e-16  0.320015   \n",
       "3                0.966426              1.214336  5.932754e-16 -0.117749   \n",
       "4                0.966426              1.214336  5.932754e-16 -0.117749   \n",
       "...                   ...                   ...           ...       ...   \n",
       "6491             0.022191             -1.395286  1.127570e-15  1.236780   \n",
       "6492             0.244951             -1.275526  1.769418e-16  1.396758   \n",
       "6494             0.079431             -1.355100  6.800116e-16  1.236780   \n",
       "6495             0.244951             -1.275526  5.204170e-16  2.002637   \n",
       "6496            -0.625176             -1.315185  5.308254e-16  1.073198   \n",
       "\n",
       "      sulphates   alcohol  \n",
       "0     -0.492388 -1.714952  \n",
       "1     -0.135902 -0.828375  \n",
       "2     -0.587942 -0.200552  \n",
       "3     -0.998762 -0.398108  \n",
       "4     -0.998762 -0.398108  \n",
       "...         ...       ...  \n",
       "6491   1.736260 -0.828375  \n",
       "6492   0.537446  0.163481  \n",
       "6494   1.454528  0.567349  \n",
       "6495   1.271668 -0.105800  \n",
       "6496   1.016946  0.567349  \n",
       "\n",
       "[6463 rows x 11 columns]"
      ]
     },
     "execution_count": 17,
     "metadata": {},
     "output_type": "execute_result"
    }
   ],
   "source": [
    "features = pd.DataFrame(PowerTransformer().fit_transform(features), \n",
    "                            columns=features.columns, \n",
    "                            index=features.index)\n",
    "features"
   ]
  },
  {
   "cell_type": "markdown",
   "metadata": {},
   "source": [
    "**&#9989; Question 2.5 (3 points):** Do this:\n",
    "\n",
    "1. Split your data into a training and a testing set with a training set representing 75% of your data. For reproducibility , set the `random_state` argument to `314159`. \n",
    "\n",
    "2. Print the lengths to show you have the right number of entries for the training and testing sets."
   ]
  },
  {
   "cell_type": "code",
   "execution_count": 18,
   "metadata": {},
   "outputs": [
    {
     "name": "stdout",
     "output_type": "stream",
     "text": [
      "4847 1616 4847 1616\n"
     ]
    }
   ],
   "source": [
    "X_train, X_test, y_train, y_test = train_test_split(features, labels, test_size=0.25, random_state=314159)\n",
    "print(len(X_train),len(X_test),len(y_train),len(y_test))"
   ]
  },
  {
   "cell_type": "markdown",
   "metadata": {},
   "source": [
    "### &#128721; STOP\n",
    "**Pause to commit your changes to your Git repository! (2 points)**\n",
    "\n",
    "Take a moment to save your notebook, commit the changes to your Git repository using the commit message \"Committing Part 2\", and push the changes to GitHub.\n",
    "\n",
    "---"
   ]
  },
  {
   "cell_type": "markdown",
   "metadata": {},
   "source": [
    "<a id=\"part3\"></a>\n",
    "[Back to ToC](#toc)\n",
    "\n",
    "# Part 3. Regression (15 Points)\n",
    "\n",
    "**&#9989; Question 3.1.1 (3 points):**\n",
    "Let's start making some prediction. \n",
    "\n",
    "1. Make a Logistic Regression model using `statsmodels` for predicting the type of wine. \n",
    "\n",
    "2. Print out the summary of your model fits.\n"
   ]
  },
  {
   "cell_type": "code",
   "execution_count": 19,
   "metadata": {},
   "outputs": [
    {
     "name": "stdout",
     "output_type": "stream",
     "text": [
      "Warning: Maximum number of iterations has been exceeded.\n",
      "         Current function value: 0.039573\n",
      "         Iterations: 35\n",
      "                           Logit Regression Results                           \n",
      "==============================================================================\n",
      "Dep. Variable:                   type   No. Observations:                 4847\n",
      "Model:                          Logit   Df Residuals:                     4836\n",
      "Method:                           MLE   Df Model:                           10\n",
      "Date:                Wed, 14 Dec 2022   Pseudo R-squ.:                  0.9291\n",
      "Time:                        20:09:18   Log-Likelihood:                -191.81\n",
      "converged:                      False   LL-Null:                       -2704.8\n",
      "Covariance Type:            nonrobust   LLR p-value:                     0.000\n",
      "========================================================================================\n",
      "                           coef    std err          z      P>|z|      [0.025      0.975]\n",
      "----------------------------------------------------------------------------------------\n",
      "const                   -4.5261      0.287    -15.785      0.000      -5.088      -3.964\n",
      "fixed acidity            1.4103      0.215      6.549      0.000       0.988       1.832\n",
      "volatile acidity         2.0008      0.202      9.886      0.000       1.604       2.397\n",
      "citric acid             -0.1542      0.168     -0.917      0.359      -0.484       0.176\n",
      "residual sugar          -0.2873      0.239     -1.203      0.229      -0.755       0.181\n",
      "chlorides                1.8508      0.203      9.104      0.000       1.452       2.249\n",
      "free sulfur dioxide      1.0151      0.263      3.859      0.000       0.500       1.531\n",
      "total sulfur dioxide    -3.2751      0.304    -10.756      0.000      -3.872      -2.678\n",
      "density              -2.333e-06   1.32e+14  -1.76e-20      1.000   -2.59e+14    2.59e+14\n",
      "pH                       1.3133      0.215      6.112      0.000       0.892       1.734\n",
      "sulphates                1.2633      0.203      6.211      0.000       0.865       1.662\n",
      "alcohol                  0.1998      0.219      0.910      0.363      -0.230       0.630\n",
      "========================================================================================\n",
      "\n",
      "Possibly complete quasi-separation: A fraction 0.27 of observations can be\n",
      "perfectly predicted. This might indicate that there is complete\n",
      "quasi-separation. In this case some parameters will not be identified.\n"
     ]
    },
    {
     "name": "stderr",
     "output_type": "stream",
     "text": [
      "/home/wanghaiz/.local/lib/python3.8/site-packages/statsmodels/base/model.py:604: ConvergenceWarning: Maximum Likelihood optimization failed to converge. Check mle_retvals\n",
      "  warnings.warn(\"Maximum Likelihood optimization failed to \"\n"
     ]
    }
   ],
   "source": [
    "# Write your code here\n",
    "logit_model = sm.Logit(y_train, sm.add_constant(X_train))\n",
    "result = logit_model.fit()\n",
    "print(result.summary() )"
   ]
  },
  {
   "cell_type": "markdown",
   "metadata": {},
   "source": [
    "**&#9989; Question 3.1.2 (2 points):** Further examine the results by  \n",
    "\n",
    "1. printing a classification report\n",
    "2. making a confusion matrix"
   ]
  },
  {
   "cell_type": "code",
   "execution_count": 23,
   "metadata": {
    "ExecuteTime": {
     "end_time": "2022-12-07T03:26:35.328300Z",
     "start_time": "2022-12-07T03:26:35.326261Z"
    }
   },
   "outputs": [
    {
     "name": "stdout",
     "output_type": "stream",
     "text": [
      "              precision    recall  f1-score   support\n",
      "\n",
      "       white       1.00      0.99      1.00      1216\n",
      "         red       0.98      0.99      0.99       400\n",
      "\n",
      "    accuracy                           0.99      1616\n",
      "   macro avg       0.99      0.99      0.99      1616\n",
      "weighted avg       0.99      0.99      0.99      1616\n",
      "\n"
     ]
    },
    {
     "data": {
      "text/plain": [
       "<sklearn.metrics._plot.confusion_matrix.ConfusionMatrixDisplay at 0x7f2900b36190>"
      ]
     },
     "execution_count": 23,
     "metadata": {},
     "output_type": "execute_result"
    },
    {
     "data": {
      "image/png": "[encoded data removed]",
      "text/plain": [
       "<Figure size 432x288 with 2 Axes>"
      ]
     },
     "metadata": {
      "needs_background": "light"
     },
     "output_type": "display_data"
    }
   ],
   "source": [
    "# Write your code here\n",
    "from sklearn.metrics import classification_report\n",
    "from sklearn.linear_model import LogisticRegression \n",
    "clf = LogisticRegression(random_state=0)\n",
    "clf.fit(X_train,y_train)\n",
    "yhat = clf.predict(X_test)\n",
    "print(classification_report(y_test, yhat, target_names=[\"white\",\"red\"]))\n",
    "cfm = confusion_matrix(y_test, yhat)\n",
    "ConfusionMatrixDisplay(cfm).plot()"
   ]
  },
  {
   "cell_type": "markdown",
   "metadata": {},
   "source": [
    "**&#9989; Question 3.2.1 (3 points):** Make an reduced Logistic Regression model for predicting the type of wine that uses just three parameters (two from the dataset + a constant). Print out the summary of your model fits.\n",
    "\n"
   ]
  },
  {
   "cell_type": "code",
   "execution_count": 32,
   "metadata": {},
   "outputs": [
    {
     "name": "stdout",
     "output_type": "stream",
     "text": [
      "Optimization terminated successfully.\n",
      "         Current function value: 0.199054\n",
      "         Iterations 8\n",
      "                           Logit Regression Results                           \n",
      "==============================================================================\n",
      "Dep. Variable:                   type   No. Observations:                 4847\n",
      "Model:                          Logit   Df Residuals:                     4844\n",
      "Method:                           MLE   Df Model:                            2\n",
      "Date:                Wed, 14 Dec 2022   Pseudo R-squ.:                  0.6433\n",
      "Time:                        20:22:05   Log-Likelihood:                -964.82\n",
      "converged:                       True   LL-Null:                       -2704.8\n",
      "Covariance Type:            nonrobust   LLR p-value:                     0.000\n",
      "=======================================================================================\n",
      "                          coef    std err          z      P>|z|      [0.025      0.975]\n",
      "---------------------------------------------------------------------------------------\n",
      "const                  -2.7910      0.095    -29.307      0.000      -2.978      -2.604\n",
      "chlorides               2.6336      0.088     29.968      0.000       2.461       2.806\n",
      "free sulfur dioxide    -1.7191      0.077    -22.250      0.000      -1.871      -1.568\n",
      "=======================================================================================\n"
     ]
    }
   ],
   "source": [
    "#Write your code here\n",
    "Xtr = X_train.iloc[:,4:6]\n",
    "Xtt = X_test.iloc[:,4:6]\n",
    "logit_model_re = sm.Logit(y_train, sm.add_constant(Xtr))\n",
    "result_re = logit_model_re.fit()\n",
    "print(result_re.summary() )"
   ]
  },
  {
   "cell_type": "markdown",
   "metadata": {},
   "source": [
    "**&#9989; Question 3.2.2 (2 points):** Same as above, examine the results of your reduced model by printing a classification report and a confusion matrix"
   ]
  },
  {
   "cell_type": "code",
   "execution_count": 34,
   "metadata": {
    "ExecuteTime": {
     "end_time": "2022-12-07T03:29:01.144438Z",
     "start_time": "2022-12-07T03:29:01.142337Z"
    }
   },
   "outputs": [
    {
     "name": "stdout",
     "output_type": "stream",
     "text": [
      "              precision    recall  f1-score   support\n",
      "\n",
      "       white       0.96      0.96      0.96      1216\n",
      "         red       0.88      0.88      0.88       400\n",
      "\n",
      "    accuracy                           0.94      1616\n",
      "   macro avg       0.92      0.92      0.92      1616\n",
      "weighted avg       0.94      0.94      0.94      1616\n",
      "\n"
     ]
    },
    {
     "data": {
      "text/plain": [
       "<sklearn.metrics._plot.confusion_matrix.ConfusionMatrixDisplay at 0x7f2900a24a90>"
      ]
     },
     "execution_count": 34,
     "metadata": {},
     "output_type": "execute_result"
    },
    {
     "data": {
      "image/png": "[encoded data removed]",
      "text/plain": [
       "<Figure size 432x288 with 2 Axes>"
      ]
     },
     "metadata": {
      "needs_background": "light"
     },
     "output_type": "display_data"
    }
   ],
   "source": [
    "#Write your code here\n",
    "clfre = LogisticRegression(random_state=0)\n",
    "clfre.fit(Xtr,y_train)\n",
    "yhatre = clfre.predict(Xtt)\n",
    "print(classification_report(y_test, yhatre, target_names=[\"white\",\"red\"]))\n",
    "cfmre = confusion_matrix(y_test, yhatre)\n",
    "ConfusionMatrixDisplay(cfmre).plot()"
   ]
  },
  {
   "cell_type": "markdown",
   "metadata": {},
   "source": [
    "**&#9989; Question 3.3 (3 points):** How did you pick the best parameters?"
   ]
  },
  {
   "cell_type": "code",
   "execution_count": 43,
   "metadata": {},
   "outputs": [
    {
     "data": {
      "text/plain": [
       "type                    1.000000\n",
       "fixed acidity           0.488552\n",
       "volatile acidity        0.653374\n",
       "citric acid            -0.185892\n",
       "residual sugar         -0.349358\n",
       "chlorides               0.512705\n",
       "free sulfur dioxide    -0.472653\n",
       "total sulfur dioxide   -0.700521\n",
       "density                 0.391437\n",
       "pH                      0.328474\n",
       "sulphates               0.486715\n",
       "alcohol                -0.035095\n",
       "Name: type, dtype: float64"
      ]
     },
     "execution_count": 43,
     "metadata": {},
     "output_type": "execute_result"
    },
    {
     "data": {
      "image/png": "[encoded data removed]",
      "text/plain": [
       "<Figure size 288x288 with 2 Axes>"
      ]
     },
     "metadata": {
      "needs_background": "light"
     },
     "output_type": "display_data"
    }
   ],
   "source": [
    "plt.matshow(df1.corr())\n",
    "plt.colorbar()\n",
    "df1.corr().iloc[:,0]"
   ]
  },
  {
   "cell_type": "markdown",
   "metadata": {},
   "source": [
    "*by looking at the correlation matrix, we can find that the 'volatile acidity' and 'total sulfur dioxide' are the two best parameters*"
   ]
  },
  {
   "cell_type": "markdown",
   "metadata": {},
   "source": [
    "### &#128721; STOP\n",
    "**Pause to commit your changes to your Git repository! (2 points)**\n",
    "\n",
    "Take a moment to save your notebook, commit the changes to your Git repository using the commit message \"Committing Part 3\", and push the changes to GitHub.\n"
   ]
  },
  {
   "cell_type": "markdown",
   "metadata": {},
   "source": [
    "---\n",
    "<a id=\"part4\"></a>\n",
    "[Back to ToC](#toc)\n",
    "\n",
    "# Part 4. Principal Component Analysis (12 points)\n",
    "\n",
    "The full model uses all 12 features to predict the results. In many cases, we might need to see how close we can get with fewer features. Instead of simply removing features, we will use a Principal Component Analysis (PCA) to determine the combined features that contribute the most to the model (through their accounted variance).\n"
   ]
  },
  {
   "cell_type": "markdown",
   "metadata": {
    "pycharm": {
     "name": "#%% md\n"
    }
   },
   "source": [
    "**&#9989; Question 4.1 (5 points):** Run a Principle Component Analysis (PCA)\n",
    "\n",
    "Since we only have 12 features to start with, let's see how well we can do if we try to aggressively reduce the feature count and use only **2** principle components. \n",
    "\n",
    "1. Using `PCA()` and the associated methods, run a principle component analysis on your `features` dataset using only 2 components. \n",
    "\n",
    "2. Transform the dataset into a new dataset and call it `pca_features`. \n",
    "\n",
    "3. Print the `explained_variance_ratio_` and its sum."
   ]
  },
  {
   "cell_type": "code",
   "execution_count": 45,
   "metadata": {
    "ExecuteTime": {
     "end_time": "2022-12-07T03:32:35.543453Z",
     "start_time": "2022-12-07T03:32:35.541284Z"
    },
    "pycharm": {
     "name": "#%%\n"
    }
   },
   "outputs": [
    {
     "name": "stdout",
     "output_type": "stream",
     "text": [
      "[0.30231226 0.18441648]\n",
      "These 2 eigenvectors account for a total of 48 percent of the total variance in the original dataset\n"
     ]
    }
   ],
   "source": [
    "# Put your code here\n",
    "n_components = 2 # This is much less than the original n_features\n",
    "\n",
    "\n",
    "\n",
    "#Set up the pca object with the number of compoents we want to find\n",
    "pca = PCA(n_components=n_components, whiten=True)\n",
    "\n",
    "#Fit the training data to the pca model.\n",
    "_ = pca.fit(X_train)\n",
    "pca_features = pca.transform(features)\n",
    "print((pca.explained_variance_ratio_))\n",
    "total_variance = np.sum(pca.explained_variance_ratio_)*100\n",
    "print(\"These %d eigenvectors account for a total of %d percent of the total variance in the original dataset\"\n",
    "      % (n_components, total_variance))"
   ]
  },
  {
   "cell_type": "markdown",
   "metadata": {
    "pycharm": {
     "name": "#%% md\n"
    }
   },
   "source": [
    "&#9989; **Question 4.1.1 (2 points):** What is the **total** explained variance ratio captured by the 2 principle components? (just quote the number) How well do you think a model with these many features will perform? Why?"
   ]
  },
  {
   "cell_type": "markdown",
   "metadata": {
    "pycharm": {
     "name": "#%% md\n"
    }
   },
   "source": [
    "<font size=+3>&#9998;</font> The total explained variance ratio is the sum of the explained variance ratios of each of the principle components.These 2 eigenvectors account for a total of 48 percent of the total variance. Since it's only 48%, then this model with 2 features perform bad."
   ]
  },
  {
   "cell_type": "markdown",
   "metadata": {},
   "source": [
    "**&#9989; Question 4.2 (3 points):** Do the following:\n",
    "\n",
    "1. Split your new features (`pca_features`) and corresponding labels (the labels are the same as before) into a training and a testing set, with the training set representing 75% of your data. For reproducibility, set the `random_state` argument to `314159`. \n",
    "\n",
    "2. Print the lengths to show you have the right number of entries.\n",
    "\n",
    "Basically do the same you have done in Q2.5 but with the `pca_features` dataset now."
   ]
  },
  {
   "cell_type": "code",
   "execution_count": 46,
   "metadata": {
    "ExecuteTime": {
     "end_time": "2022-12-07T03:34:12.203423Z",
     "start_time": "2022-12-07T03:34:12.200976Z"
    }
   },
   "outputs": [
    {
     "name": "stdout",
     "output_type": "stream",
     "text": [
      "4847 1616 4847 1616\n"
     ]
    }
   ],
   "source": [
    "# Put your code here\n",
    "X_trainp, X_testp, y_trainp, y_testp = train_test_split(pca_features, labels, test_size=0.25, random_state=314159)\n",
    "print(len(X_trainp),len(X_testp),len(y_trainp),len(y_testp))"
   ]
  },
  {
   "cell_type": "markdown",
   "metadata": {},
   "source": [
    "---\n",
    "### &#128721; STOP\n",
    "**Pause to commit your changes to your Git repository! (2 points)**\n",
    "\n",
    "Take a moment to save your notebook, commit the changes to your Git repository using the commit message \"Committing Part 4\".\n",
    "\n",
    "---"
   ]
  },
  {
   "cell_type": "markdown",
   "metadata": {
    "pycharm": {
     "name": "#%% md\n"
    }
   },
   "source": [
    "---\n",
    "<a id=\"part5\"></a>\n",
    "[Back to ToC](#toc)\n",
    "\n",
    "# Part 5. Support Vector Machine (15 points)\n",
    "\n",
    "Let's see how an SVM performs"
   ]
  },
  {
   "cell_type": "markdown",
   "metadata": {
    "pycharm": {
     "name": "#%% md\n"
    }
   },
   "source": [
    "**&#9989; Question 5.1 (9 points):** Do the following:\n",
    "\n",
    "1. Build a `SVC` model with a `linear` kernel. (2 points), \n",
    "\n",
    "2. Use `GridSearchCV` to find the best `C` parameter from this list: `'C':[0.0001, 0.001, 0.1, 1, 10]`, (2 points)\n",
    "  \n",
    "3. **Fit** the above model on the training set and **print** the best estimator (2 points)\n",
    "\n",
    "4. Use your best estimator on the test dataset to make prediction. (1 point)\n",
    "\n",
    "5. Print a [classification report](https://scikit-learn.org/stable/modules/generated/sklearn.metrics.classification_report.html), based on its performance on the testing dataset. (1 point)\n",
    "\n",
    "6. Print the [confusion matrix](https://scikit-learn.org/stable/auto_examples/model_selection/plot_confusion_matrix.html#sphx-glr-auto-examples-model-selection-plot-confusion-matrix-py) on the testing dataset  (1 point)\n",
    "\n",
    "**Note:** You can set the `GridSearchCV` keyword argument `n_jobs = -1` to speed things up (this allows the process to run on multiple cores.)\n",
    "\n",
    "**Note:** If `GridSearchCV` is slow you can use the built-in model `LinearSVC` in `sklearn`. This is the same as `SVC(kernel = 'linear')` but it is faster. "
   ]
  },
  {
   "cell_type": "code",
   "execution_count": null,
   "metadata": {
    "ExecuteTime": {
     "end_time": "2022-12-07T03:35:07.832760Z",
     "start_time": "2022-12-07T03:35:07.829838Z"
    },
    "pycharm": {
     "name": "#%%\n"
    }
   },
   "outputs": [],
   "source": [
    "# Put your code here\n"
   ]
  },
  {
   "cell_type": "markdown",
   "metadata": {},
   "source": [
    "**&#9989; Question 5.1.1 (4 points):** Answer the following questions:\n",
    "\n",
    "1. What is the accuracy score of your model ? **Do not use code** You should be able to read it from the output above!\n",
    "\n",
    "2. How does your SVM model compare with the Regression models? \n"
   ]
  },
  {
   "cell_type": "markdown",
   "metadata": {},
   "source": [
    "---\n",
    "### &#128721; STOP\n",
    "**Pause to commit your changes to your Git repository! (2 points)**\n",
    "\n",
    "Take a moment to save your notebook, commit the changes to your Git repository using the commit message \"Committing Part 5\".\n",
    "\n",
    "---"
   ]
  },
  {
   "cell_type": "markdown",
   "metadata": {},
   "source": [
    "<a id=\"part3\"></a>\n",
    "[Back to ToC](#toc)\n",
    "\n",
    "# Part 6. Regression Redux (7 Points)\n",
    "\n",
    "**&#9989; Question 6.1.1 (3 points):** Let's investigate the Logistic model again and see how it performs on the new PCA-transformed dataset. \n",
    "\n",
    "**Do this**: Make an Logistic model using the PCA features (2 features + constant). You should add a constant to the two PCA features, giving you three total features.\n"
   ]
  },
  {
   "cell_type": "code",
   "execution_count": null,
   "metadata": {},
   "outputs": [],
   "source": [
    "#Write your code here"
   ]
  },
  {
   "cell_type": "markdown",
   "metadata": {},
   "source": [
    "**&#9989; Question 6.1.2 (2 points):**  Examine the results by making a confusion matrix (2 Points)"
   ]
  },
  {
   "cell_type": "code",
   "execution_count": null,
   "metadata": {
    "ExecuteTime": {
     "end_time": "2022-12-07T03:37:45.505079Z",
     "start_time": "2022-12-07T03:37:45.503036Z"
    }
   },
   "outputs": [],
   "source": [
    "#Write your code here"
   ]
  },
  {
   "cell_type": "markdown",
   "metadata": {},
   "source": [
    "---\n",
    "### &#128721; STOP\n",
    "**Pause to commit your changes to your Git repository! (2 points)**\n",
    "\n",
    "Take a moment to save your notebook, commit the changes to your Git repository using the commit message \"Committing Part 6\".\n",
    "\n",
    "---"
   ]
  },
  {
   "cell_type": "markdown",
   "metadata": {},
   "source": [
    "---\n",
    "<a id=\"part7\"></a>\n",
    "[Back to ToC](#toc)\n",
    "\n",
    "# Part 7. Conceptual Questions (14 Points)\n",
    "\n",
    "**&#9989; Question 7.1 (4 points):** Compare your results from 3.2.2 and 6.1.2, two Logistic regression models that used the three most significant features. Which one performed better? Why? Your explanation should discuss the difference between the features in the two models and how that difference might affect how well the model fits the data.  "
   ]
  },
  {
   "cell_type": "markdown",
   "metadata": {},
   "source": [
    "*Write your response here*"
   ]
  },
  {
   "cell_type": "markdown",
   "metadata": {
    "tags": []
   },
   "source": [
    "#### 7.2 \n",
    "The following questions probe your understanding of  `recall` and `precision`. You’ll be given a specific scenario, and you will need to decide whether to select a Machine Learning model that maximizes `recall` or `precision`.\n",
    "\n",
    "\n",
    "**&#9989; Question 7.2 (4 points):**  A new disease has been detected in Sweden. Doctors have taken multiple measurements of patients and passed them along to you. You’ve tested various models to predict which patients have the new disease. The Swedish health experts have told you it is critical that they identify **all** of the patients with the new disease so they can put them into quarantine. They tell you that it doesn’t matter if your model accidentally flags some people as having the disease even when they don’t, as it’s much better to tell people who aren’t sick to quarantine than to tell a sick person they don’t need to quarantine.\n",
    "\n",
    "Given this situation, should you choose the model that maximizes `recall` or the model that maximizes `precision`? Why?"
   ]
  },
  {
   "cell_type": "markdown",
   "metadata": {},
   "source": [
    "*Write your response here*"
   ]
  },
  {
   "cell_type": "markdown",
   "metadata": {
    "tags": []
   },
   "source": [
    "**&#9989; Question 7.2.2 (4 points):**\n",
    "You are working for the state of Michigan, helping them with their new unemployment insurance program. You’ve created various models that are meant to detect fraud–i.e., determine whether or not someone applied for unemployment insurance when they shouldn’t have. Your boss tells you that it’s critical that your model doesn’t accidentally accuse an innocent person of fraud. They say it’s fine if your model misses some people who committed fraud as long as there are no false accusations. \n",
    "\n",
    "Given this situation, should you choose the model that maximizes `recall` or the model that maximizes `precision`? Why?"
   ]
  },
  {
   "cell_type": "markdown",
   "metadata": {},
   "source": [
    "*Write your response here*"
   ]
  },
  {
   "cell_type": "markdown",
   "metadata": {
    "pycharm": {
     "name": "#%% md\n"
    }
   },
   "source": [
    "---\n",
    "### &#128721; STOP\n",
    "**Pause to commit your changes to your Git repository!** (2 points)\n",
    "\n",
    "Take a moment to save your notebook, commit the changes to your Git repository using the commit message \"Committing Part 7\".\n",
    "\n",
    "---"
   ]
  },
  {
   "cell_type": "markdown",
   "metadata": {},
   "source": [
    "---\n",
    "<a id=\"conclusion\"></a>\n",
    "[Back to ToC](#toc)\n",
    "\n",
    "# Part 8. Conclusion (3 points)\n",
    "\n",
    "Make sure all of your changes to your repository are committed and pushed to GitHub. \n",
    "Before you leave\n",
    "\n",
    "1. Have you added your name and github username at the top of this notebook? ? (1 point)\n",
    "\n",
    "2. Push the changes to your GitHub repository (1 point)\n",
    "\n",
    "3. Upload your notebook to D2L in case something went wrong with your repository or if you couldn't get the repository to work.  (1 point)"
   ]
  },
  {
   "cell_type": "markdown",
   "metadata": {},
   "source": [
    "## You're done! Congrats on finishing your CMSE 202 Midterm!"
   ]
  },
  {
   "cell_type": "code",
   "execution_count": null,
   "metadata": {
    "ExecuteTime": {
     "end_time": "2022-12-05T21:32:42.910515Z",
     "start_time": "2022-12-05T21:32:42.900046Z"
    }
   },
   "outputs": [],
   "source": [
    "\n",
    "# FINAL GRADE (Instructor's use only)\",\n",
    "parts = [part_0, part_1, part_2, part_3, part_4, part_5, part_6, part_7]\n",
    "print(f\"Part 0: {part_0}/{grades[0]}\")\n",
    "print(f\"Part 1: {part_1}/{grades[1]}\")\n",
    "print(f\"Part 2: {part_2}/{grades[2]}\")\n",
    "print(f\"Part 3: {part_3}/{grades[3]}\")\n",
    "print(f\"Part 4: {part_4}/{grades[4]}\")\n",
    "print(f\"Part 5: {part_5}/{grades[5]}\")\n",
    "print(f\"Part 6: {part_6}/{grades[6]}\")\n",
    "print(f\"Part 7: {part_7}/{grades[7]}\")\n",
    "\n",
    "total = sum(parts)\n",
    "print(f\"Your final grade is {total}\")"
   ]
  },
  {
   "cell_type": "markdown",
   "metadata": {},
   "source": [
    "&#169; Copyright 2022,  Department of Computational Mathematics, Science and Engineering at Michigan State University"
   ]
  },
  {
   "cell_type": "code",
   "execution_count": null,
   "metadata": {},
   "outputs": [],
   "source": []
  }
 ],
 "metadata": {
  "kernelspec": {
   "display_name": "Python 3",
   "language": "python",
   "name": "python3"
  },
  "language_info": {
   "codemirror_mode": {
    "name": "ipython",
    "version": 3
   },
   "file_extension": ".py",
   "mimetype": "text/x-python",
   "name": "python",
   "nbconvert_exporter": "python",
   "pygments_lexer": "ipython3",
   "version": "3.8.8"
  },
  "latex_envs": {
   "LaTeX_envs_menu_present": true,
   "autoclose": false,
   "autocomplete": true,
   "bibliofile": "biblio.bib",
   "cite_by": "apalike",
   "current_citInitial": 1,
   "eqLabelWithNumbers": true,
   "eqNumInitial": 1,
   "hotkeys": {
    "equation": "Ctrl-E",
    "itemize": "Ctrl-I"
   },
   "labels_anchors": false,
   "latex_user_defs": false,
   "report_style_numbering": false,
   "user_envs_cfg": false
  },
  "widgets": {
   "application/vnd.jupyter.widget-state+json": {
    "state": {},
    "version_major": 2,
    "version_minor": 0
   }
  }
 },
 "nbformat": 4,
 "nbformat_minor": 4
}
